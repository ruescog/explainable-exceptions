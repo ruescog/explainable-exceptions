{
 "cells": [
  {
   "cell_type": "markdown",
   "metadata": {},
   "source": [
    "# core\n",
    "\n",
    "> The core of the magic cell and AI model connection"
   ]
  },
  {
   "cell_type": "code",
   "execution_count": null,
   "metadata": {},
   "outputs": [],
   "source": [
    "#| default_exp core"
   ]
  },
  {
   "cell_type": "code",
   "execution_count": null,
   "metadata": {},
   "outputs": [],
   "source": [
    "#| hide\n",
    "from nbdev.showdoc import *"
   ]
  },
  {
   "cell_type": "code",
   "execution_count": null,
   "metadata": {},
   "outputs": [],
   "source": [
    "#| export\n",
    "from hugchat import hugchat\n",
    "from hugchat.exceptions import ModelOverloadedError\n",
    "from hugchat.login import Login\n",
    "from IPython.core.magic import register_cell_magic, needs_local_scope\n",
    "from IPython.display import display, Markdown\n",
    "from time import sleep\n",
    "\n",
    "import logging\n",
    "import os\n",
    "import traceback"
   ]
  },
  {
   "cell_type": "code",
   "execution_count": null,
   "metadata": {},
   "outputs": [],
   "source": [
    "#| export\n",
    "def login(user: str = None, # username of the huggingchat account that is going to be used to send the messages. If None, it will be infered from possible json files in the working directory or requested to the user.\n",
    "          password: str = None, # in plain-text, the password of that account. Not necessary if there exist a credentials file. Requested to the user otherwise.\n",
    "          *, credentials_dir: str = \".\" # the path where the credentials file is. The working directory will be selected by default.\n",
    "         ):\n",
    "    \"\"\"\n",
    "    Logs the user into the huggingface chat using the user + password or the user + credentials json.\n",
    "    \"\"\"\n",
    "    try:\n",
    "        cookies = None\n",
    "        json_file = [f for f in os.listdir() if \".json\" in f]\n",
    "        \n",
    "        if not user and json_file:\n",
    "            user = json_file[0].split(\".\")[0]\n",
    "\n",
    "        sign: Login = Login(user, password)\n",
    "        cookies = sign.loadCookiesFromDir(credentials_dir)\n",
    "    except:\n",
    "        logging.critical(\"Credentials file cannot be found. Requesting credentials...\")\n",
    "        \n",
    "        if user:\n",
    "            logging.info(f\"Username infered from command line: {user}\")\n",
    "        else:\n",
    "            user = input(\"Username: \")\n",
    "        \n",
    "        if not password:\n",
    "            password = input(\"Password: \")\n",
    "\n",
    "        confirm = input(\"Do you want to save your credentials? (y/n)\")\n",
    "        \n",
    "        sign: Login = Login(user, password)\n",
    "        cookies = sign.login()\n",
    "        \n",
    "        if confirm == \"y\":\n",
    "            path = sign.saveCookiesToDir(credentials_dir)\n",
    "            print(f\"Your credentials file has been saved at: {path}\")\n",
    "\n",
    "    finally:\n",
    "        return cookies\n",
    "    \n",
    "def explain_exception(cookies, # cookies used in the connection.\n",
    "                      exception_message, # error message sent to the model.\n",
    "                      wait = 0 # number of seconds to wait until sending the message.\n",
    "                     ):\n",
    "    if not wait:\n",
    "        logging.info(\"Conecting with hugchat to obtain the information about the exception.\")\n",
    "    else:\n",
    "        sleep(wait)\n",
    "\n",
    "    chatbot = hugchat.ChatBot(cookies = cookies.get_dict())\n",
    "    user_confirmation = None\n",
    "    \n",
    "    try:\n",
    "        while user_confirmation != \"n\":\n",
    "            logging.warning(\"Be careful, the following response has been generated automatically by a Natural Language Processing Model, so the answer may be incorrect or false.\")\n",
    "            response = chatbot.chat(f\"I was coding with Python and I have found this exception message: {exception_message}. How can I solve it?\")\n",
    "            display(Markdown(\"## Huggingchat response [(online version)](https://huggingface.co/chat):\"))\n",
    "            display(Markdown(response))\n",
    "            display(Markdown(\"---\"))\n",
    "            user_confirmation = input(\"\\nDo you need another answer? (y/n)\")\n",
    "    except ModelOverloadedError as e:\n",
    "        logging.warning(f\"Model is overloaded, trying again in {wait + 5} seconds...\")\n",
    "        explain_exception(cookies, exception_message, wait + 5)\n",
    "    \n",
    "@register_cell_magic\n",
    "@needs_local_scope\n",
    "def explain(line, # additional information added to the execution of the magic command. If provided, it will be trated as the username.\n",
    "            cell, # cell that potentially raised the exception.\n",
    "            local_ns # infered from the decorator. The local variables (needed to catch the imports).\n",
    "           ):\n",
    "    try:\n",
    "        exec(cell, globals(), local_ns)\n",
    "    except Exception as e:\n",
    "        exception_message = traceback.format_exc()\n",
    "        logging.critical(exception_message)\n",
    "        \n",
    "        user = line if line else None\n",
    "        cookies = login(user)\n",
    "        \n",
    "        explain_exception(cookies, exception_message)\n",
    "        \n",
    "        raise e"
   ]
  },
  {
   "cell_type": "code",
   "execution_count": null,
   "metadata": {},
   "outputs": [],
   "source": [
    "#| hide\n",
    "import nbdev; nbdev.nbdev_export()"
   ]
  }
 ],
 "metadata": {
  "kernelspec": {
   "display_name": "explainable-exceptions",
   "language": "python",
   "name": "explainable-exceptions"
  }
 },
 "nbformat": 4,
 "nbformat_minor": 4
}
