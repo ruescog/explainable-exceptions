{
 "cells": [
  {
   "cell_type": "markdown",
   "metadata": {},
   "source": [
    "# core\n",
    "\n",
    "> Fill in a module description here"
   ]
  },
  {
   "cell_type": "code",
   "execution_count": null,
   "metadata": {},
   "outputs": [],
   "source": [
    "#| default_exp core"
   ]
  },
  {
   "cell_type": "code",
   "execution_count": null,
   "metadata": {},
   "outputs": [],
   "source": [
    "#| hide\n",
    "from nbdev.showdoc import *"
   ]
  },
  {
   "cell_type": "code",
   "execution_count": null,
   "metadata": {},
   "outputs": [],
   "source": [
    "#| export\n",
    "from hugchat import hugchat\n",
    "from hugchat.exceptions import ModelOverloadedError\n",
    "from hugchat.login import Login\n",
    "from IPython.core.magic import register_cell_magic, needs_local_scope\n",
    "from IPython.display import display, Markdown\n",
    "from time import sleep\n",
    "\n",
    "import logging\n",
    "import os\n",
    "import traceback"
   ]
  },
  {
   "cell_type": "code",
   "execution_count": null,
   "metadata": {},
   "outputs": [],
   "source": [
    "#| export\n",
    "def login(user: str = None, password: str = None, *, credentials_dir: str = \".\"):\n",
    "    \"\"\"\n",
    "    Logs the user into the huggingface chat using the user + password or the user + credentials json.\n",
    "    \"\"\"\n",
    "    try:\n",
    "        cookies = None\n",
    "        json_file = [f for f in os.listdir() if \".json\" in f]\n",
    "        \n",
    "        if not user and json_file:\n",
    "            user = json_file[0].split(\".\")[0]\n",
    "\n",
    "        sign: Login = Login(user, password)\n",
    "        cookies = sign.loadCookiesFromDir(credentials_dir)\n",
    "    except:\n",
    "        logging.critical(\"Credentials file cannot be found. Requesting credentials...\")\n",
    "        \n",
    "        if user:\n",
    "            logging.info(f\"Username infered from command line: {user}\")\n",
    "        else:\n",
    "            user = input(\"Username: \")\n",
    "        \n",
    "        if not password:\n",
    "            password = input(\"Password: \")\n",
    "\n",
    "        confirm = input(\"Do you want to save your credentials? (y/n)\")\n",
    "        \n",
    "        sign: Login = Login(user, password)\n",
    "        cookies = sign.login()\n",
    "        \n",
    "        if confirm == \"y\":\n",
    "            path = sign.saveCookiesToDir(credentials_dir)\n",
    "            print(f\"Your credentials file has been saved at: {path}\")\n",
    "\n",
    "    finally:\n",
    "        return cookies\n",
    "    \n",
    "def explain_exception(cookies, exception_message, wait = 0):\n",
    "    if not wait:\n",
    "        logging.info(\"Conecting with hugchat to obtain the information about the exception.\")\n",
    "    else:\n",
    "        sleep(wait)\n",
    "\n",
    "    chatbot = hugchat.ChatBot(cookies = cookies.get_dict())\n",
    "    user_confirmation = None\n",
    "    \n",
    "    try:\n",
    "        while user_confirmation != \"n\":\n",
    "            logging.warning(\"Be careful, the following response has been generated automatically by a Natural Language Processing Model, so the answer may be incorrect or false.\")\n",
    "            response = chatbot.chat(f\"I was coding with Python and I have found this exception message: {exception_message}. How can I solve it?\")\n",
    "            display(Markdown(\"## Huggingchat response [(online version)](https://huggingface.co/chat):\"))\n",
    "            display(Markdown(response))\n",
    "            display(Markdown(\"---\"))\n",
    "            user_confirmation = input(\"\\nDo you need another answer? (y/n)\")\n",
    "    except ModelOverloadedError as e:\n",
    "        logging.warning(f\"Model is overloaded, trying again in {wait + 5} seconds...\")\n",
    "        explain_exception(cookies, exception_message, wait + 5)\n",
    "    \n",
    "@register_cell_magic\n",
    "@needs_local_scope\n",
    "def explain(line, cell, local_ns):\n",
    "    try:\n",
    "        exec(cell, globals(), local_ns)\n",
    "    except Exception as e:\n",
    "        exception_message = traceback.format_exc()\n",
    "        logging.critical(exception_message)\n",
    "        \n",
    "        user = line if line else None\n",
    "        cookies = login(user)\n",
    "        \n",
    "        explain_exception(cookies, exception_message)\n",
    "        \n",
    "        raise e"
   ]
  },
  {
   "cell_type": "code",
   "execution_count": null,
   "metadata": {},
   "outputs": [],
   "source": [
    "#| hide\n",
    "import nbdev; nbdev.nbdev_export()"
   ]
  }
 ],
 "metadata": {
  "kernelspec": {
   "display_name": "explainable-exceptions",
   "language": "python",
   "name": "explainable-exceptions"
  }
 },
 "nbformat": 4,
 "nbformat_minor": 4
}
